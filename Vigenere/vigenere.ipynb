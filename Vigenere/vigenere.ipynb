{
 "cells": [
  {
   "cell_type": "markdown",
   "id": "cosmetic-semester",
   "metadata": {},
   "source": [
    "### Cifra de Vigenère"
   ]
  },
  {
   "cell_type": "markdown",
   "id": "political-confidence",
   "metadata": {},
   "source": [
    "Miguel dos Reis - RA: 11201721738"
   ]
  },
  {
   "cell_type": "code",
   "execution_count": 12,
   "id": "champion-blade",
   "metadata": {},
   "outputs": [
    {
     "name": "stdout",
     "output_type": "stream",
     "text": [
      "Mensagem criptografada: YOVlLIKFaMWKYaNJXHjL\n"
     ]
    }
   ],
   "source": [
    "chave = 'chave'\n",
    "mensagem = 'testedacifravigenere'\n",
    "\n",
    "alfabeto = ([chr(i) for i in range(127)])[32:126]\n",
    "\n",
    "cifra = ''\n",
    "for i in range(len(mensagem)):\n",
    "    caracMensagem = mensagem[i]\n",
    "    caracChave = chave[i % len(chave)]\n",
    "    cifra += alfabeto[(alfabeto.index(caracMensagem) + alfabeto.index(caracChave)) % len(alfabeto)]\n",
    "\n",
    "print('Mensagem criptografada: ' + cifra)\n"
   ]
  },
  {
   "cell_type": "code",
   "execution_count": 15,
   "id": "vital-philadelphia",
   "metadata": {},
   "outputs": [
    {
     "name": "stdout",
     "output_type": "stream",
     "text": [
      "Mensagem descriptografada: testedacifravigenere\n"
     ]
    }
   ],
   "source": [
    "decript = ''\n",
    "for i in range(len(cifra)):\n",
    "    caracCifra = cifra[i]\n",
    "    caracChave = chave[i % len(chave)]\n",
    "    decript += alfabeto[(alfabeto.index(caracCifra) - alfabeto.index(caracChave)) % len(alfabeto)]\n",
    "\n",
    "print('Mensagem descriptografada: ' + decript)"
   ]
  },
  {
   "cell_type": "code",
   "execution_count": 10,
   "id": "behind-setting",
   "metadata": {},
   "outputs": [
    {
     "name": "stdout",
     "output_type": "stream",
     "text": [
      "[' ', '!', '\"', '#', '$', '%', '&', \"'\", '(', ')', '*', '+', ',', '-', '.', '/', '0', '1', '2', '3', '4', '5', '6', '7', '8', '9', ':', ';', '<', '=', '>', '?', '@', 'A', 'B', 'C', 'D', 'E', 'F', 'G', 'H', 'I', 'J', 'K', 'L', 'M', 'N', 'O', 'P', 'Q', 'R', 'S', 'T', 'U', 'V', 'W', 'X', 'Y', 'Z', '[', '\\\\', ']', '^', '_', '`', 'a', 'b', 'c', 'd', 'e', 'f', 'g', 'h', 'i', 'j', 'k', 'l', 'm', 'n', 'o', 'p', 'q', 'r', 's', 't', 'u', 'v', 'w', 'x', 'y', 'z', '{', '|', '}', '~']\n"
     ]
    }
   ],
   "source": [
    "print(([chr(i) for i in range(127)])[32:127])"
   ]
  },
  {
   "cell_type": "code",
   "execution_count": null,
   "id": "appreciated-pharmacy",
   "metadata": {},
   "outputs": [],
   "source": []
  }
 ],
 "metadata": {
  "kernelspec": {
   "display_name": "Python 3",
   "language": "python",
   "name": "python3"
  },
  "language_info": {
   "codemirror_mode": {
    "name": "ipython",
    "version": 3
   },
   "file_extension": ".py",
   "mimetype": "text/x-python",
   "name": "python",
   "nbconvert_exporter": "python",
   "pygments_lexer": "ipython3",
   "version": "3.9.1"
  }
 },
 "nbformat": 4,
 "nbformat_minor": 5
}
